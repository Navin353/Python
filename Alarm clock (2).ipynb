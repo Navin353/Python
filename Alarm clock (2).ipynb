{
 "cells": [
  {
   "cell_type": "markdown",
   "id": "11c3cc99",
   "metadata": {},
   "source": [
    "# ALARM CLOCK"
   ]
  },
  {
   "cell_type": "code",
   "execution_count": 1,
   "id": "a7c8e91c",
   "metadata": {},
   "outputs": [],
   "source": [
    "#Importing tkinter ,datetime and time\n",
    "\n",
    "from tkinter import *\n",
    "import datetime\n",
    "import time"
   ]
  },
  {
   "cell_type": "code",
   "execution_count": 11,
   "id": "344cc878",
   "metadata": {},
   "outputs": [],
   "source": [
    "def alarm(set_alarm_timer):\n",
    "    while True:\n",
    "        current_time = datetime.datetime.now()\n",
    "        now = current_time.strftime(\"%H:%M:%S\")\n",
    "        date = current_time.strftime(\"%d/%m/%Y\")\n",
    "        print(date)\n",
    "        print(now)\n",
    "        if now == set_alarm_timer:\n",
    "            print(\"Time to Wake up\")\n",
    "            break\n",
    "\n",
    "def actual_time():\n",
    "    set_alarm_timer = f\"{hour.get()}:{min.get()}:{sec.get()}\"\n",
    "    alarm(set_alarm_timer)\n",
    "    \n",
    "c = Tk()\n",
    "c.title(\"Alarm Clock\")\n",
    "c.geometry(\"400x200\",)\n",
    "time_format=Label(c, text= \"Enter time in 24 hour format!\", fg=\"black\",bg=\"white\",font=\"Arial\").place(x=60,y=120)\n",
    "addTime = Label(c,text = \"Hour  Min   Sec\",font=60).place(x = 110)\n",
    "\n",
    "hour = StringVar()\n",
    "min = StringVar()\n",
    "sec = StringVar()\n",
    "\n",
    "hourTime= Entry(c,textvariable = hour,bg = \"pink\",width = 15).place(x=110,y=30)\n",
    "minTime= Entry(c,textvariable = min,bg = \"pink\",width = 15).place(x=150,y=30)\n",
    "secTime = Entry(c,textvariable = sec,bg = \"pink\",width = 15).place(x=200,y=30)\n",
    "\n",
    "submit = Button(c,text = \"Set Alarm\",fg=\"red\",width = 10,command = actual_time).place(x =110,y=70)\n",
    "\n",
    "c.mainloop()"
   ]
  }
 ],
 "metadata": {
  "kernelspec": {
   "display_name": "Python 3 (ipykernel)",
   "language": "python",
   "name": "python3"
  },
  "language_info": {
   "codemirror_mode": {
    "name": "ipython",
    "version": 3
   },
   "file_extension": ".py",
   "mimetype": "text/x-python",
   "name": "python",
   "nbconvert_exporter": "python",
   "pygments_lexer": "ipython3",
   "version": "3.9.7"
  }
 },
 "nbformat": 4,
 "nbformat_minor": 5
}
