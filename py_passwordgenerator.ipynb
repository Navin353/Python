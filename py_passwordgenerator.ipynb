{
 "cells": [
  {
   "cell_type": "markdown",
   "id": "d6d9d7e6",
   "metadata": {},
   "source": [
    "# Password generator"
   ]
  },
  {
   "cell_type": "code",
   "execution_count": 22,
   "id": "72086000",
   "metadata": {},
   "outputs": [],
   "source": [
    "#importinglibraries\n",
    "\n",
    "from tkinter import *\n",
    "import random,string\n",
    "import pyperclip"
   ]
  },
  {
   "cell_type": "code",
   "execution_count": null,
   "id": "3717ec66",
   "metadata": {},
   "outputs": [],
   "source": [
    "#initialize window\n",
    "\n",
    "x=Tk()\n",
    "x.geometry('400x400')\n",
    "x.title('Password Generator')\n",
    "Label(x,text='Password Generator',font='arial 15 bold').pack()\n",
    "\n",
    "#Select password length\n",
    "\n",
    "pass_label=Label(x,text='Password length',font=\"arial 15 bold\").pack()\n",
    "pass_len=IntVar()\n",
    "length=Spinbox(x,from_ = 8, to_ = 32 , textvariable = pass_len , width = 15).pack()\n",
    "\n",
    "#Function to generate password\n",
    "\n",
    "pass_str = StringVar()\n",
    "def Generator():\n",
    "    password = ''\n",
    "    for x in range (0,4):\n",
    "        password = random.choice(string.ascii_uppercase) + random.choice(string.ascii_lowercase) + random.choice(string.digits) + random.choice(string.punctuation)\n",
    "    for y in range(pass_len.get()- 4):\n",
    "        password = password + random.choice(string.ascii_uppercase + string.ascii_lowercase + string.digits + string.punctuation)\n",
    "    pass_str.set(password)\n",
    "    \n",
    "Button(x, text = \"GENERATE PASSWORD\" , command = Generator ).pack(pady= 5)\n",
    "Entry(x, textvariable = pass_str).pack()\n",
    "\n",
    "#fun to copy password\n",
    "\n",
    "def Copy_password():\n",
    "    pyperclip.copy(pass_str.get())\n",
    "\n",
    "Button(x, text = 'COPY TO CLIPBOARD', command = Copy_password).pack(pady=5)\n",
    "\n",
    "x.mainloop()"
   ]
  },
  {
   "cell_type": "code",
   "execution_count": null,
   "id": "253cface",
   "metadata": {},
   "outputs": [],
   "source": []
  },
  {
   "cell_type": "code",
   "execution_count": null,
   "id": "82ef7d51",
   "metadata": {},
   "outputs": [],
   "source": []
  }
 ],
 "metadata": {
  "kernelspec": {
   "display_name": "Python 3 (ipykernel)",
   "language": "python",
   "name": "python3"
  },
  "language_info": {
   "codemirror_mode": {
    "name": "ipython",
    "version": 3
   },
   "file_extension": ".py",
   "mimetype": "text/x-python",
   "name": "python",
   "nbconvert_exporter": "python",
   "pygments_lexer": "ipython3",
   "version": "3.9.7"
  }
 },
 "nbformat": 4,
 "nbformat_minor": 5
}
